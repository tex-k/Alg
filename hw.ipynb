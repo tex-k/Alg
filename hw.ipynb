{
 "cells": [
  {
   "cell_type": "code",
   "execution_count": 3,
   "id": "d2bc9a26",
   "metadata": {},
   "outputs": [],
   "source": [
    "import numpy as np"
   ]
  },
  {
   "cell_type": "code",
   "execution_count": 4,
   "id": "308bc4c5",
   "metadata": {},
   "outputs": [],
   "source": [
    "def standard_scale(X):\n",
    "    mean = X.mean()\n",
    "    std = X.std()\n",
    "    return (X - mean) / std"
   ]
  },
  {
   "cell_type": "code",
   "execution_count": 5,
   "id": "b594f47d",
   "metadata": {},
   "outputs": [],
   "source": [
    "def calc_mse(y, y_pred):\n",
    "    err = np.mean((y - y_pred)**2)\n",
    "    return err"
   ]
  },
  {
   "cell_type": "code",
   "execution_count": 15,
   "id": "1b6fccf3",
   "metadata": {},
   "outputs": [],
   "source": [
    "def gradient_descent_reg_l1(X, y, iterations, eta=1e-4, reg=1e-8):\n",
    "    W = np.random.randn(X.shape[1])\n",
    "    n = X.shape[0]\n",
    "    \n",
    "    for i in range(0, iterations):\n",
    "        y_pred = np.dot(X, W)\n",
    "        err = calc_mse(y, y_pred)\n",
    "        \n",
    "        dQ = 2/n * X.T @ (y_pred - y)\n",
    "        dReg = reg / np.linalg.norm(W) * W # ИЗМЕНЕНИЕ\n",
    "        \n",
    "        W -= eta * (dQ + dReg)\n",
    "        \n",
    "        if i % (iterations / 10) == 0:\n",
    "            print(f'Iter: {i}, weights: {W}, error {err}')\n",
    "    \n",
    "    print(f'Final MSE: {calc_mse(y, np.dot(X, W))}')\n",
    "    return W"
   ]
  },
  {
   "cell_type": "code",
   "execution_count": 17,
   "id": "c547debc",
   "metadata": {},
   "outputs": [
    {
     "name": "stdout",
     "output_type": "stream",
     "text": [
      "Iter: 0, weights: [10.21514223  1.83507082  2.78839887  1.86097369], error 3504.118272329439\n",
      "Iter: 500, weights: [56.49995064  6.3030487  -0.35620053  6.57132239], error 24.90461888582536\n",
      "Iter: 1000, weights: [56.49995064  6.30308042 -0.35635369  6.57144881], error 24.904618879586465\n",
      "Iter: 1500, weights: [56.49995064  6.30308042 -0.35635369  6.57144882], error 24.9046188795864\n",
      "Iter: 2000, weights: [56.49995064  6.30308042 -0.35635369  6.57144882], error 24.904618879586405\n",
      "Iter: 2500, weights: [56.49995064  6.30308042 -0.35635369  6.57144882], error 24.904618879586405\n",
      "Iter: 3000, weights: [56.49995064  6.30308042 -0.35635369  6.57144882], error 24.904618879586405\n",
      "Iter: 3500, weights: [56.49995064  6.30308042 -0.35635369  6.57144882], error 24.904618879586405\n",
      "Iter: 4000, weights: [56.49995064  6.30308042 -0.35635369  6.57144882], error 24.904618879586405\n",
      "Iter: 4500, weights: [56.49995064  6.30308042 -0.35635369  6.57144882], error 24.904618879586405\n",
      "Final MSE: 24.904618879586405\n"
     ]
    },
    {
     "data": {
      "text/plain": [
       "array([56.49995064,  6.30308042, -0.35635369,  6.57144882])"
      ]
     },
     "execution_count": 17,
     "metadata": {},
     "output_type": "execute_result"
    }
   ],
   "source": [
    "X = np.array([[   1,    1,  500,    1],\n",
    "              [   1,    1,  700,    1],\n",
    "              [   1,    2,  750,    2],\n",
    "              [   1,    5,  600,    1],\n",
    "              [   1,    3, 1450,    2],\n",
    "              [   1,    0,  800,    1],\n",
    "              [   1,    5, 1500,    3],\n",
    "              [   1,   10, 2000,    3],\n",
    "              [   1,    1,  450,    1],\n",
    "              [   1,    2, 1000,    2]])\n",
    "y = [45, 55, 50, 55, 60, 35, 75, 80, 50, 60]\n",
    "\n",
    "X_st = X.copy().astype(np.float64)\n",
    "X_st[:, 1] = standard_scale(X_st[:, 1])\n",
    "X_st[:, 2] = standard_scale(X_st[:, 2])\n",
    "X_st[:, 3] = standard_scale(X_st[:, 3])\n",
    "\n",
    "gradient_descent_reg_l1(X_st, y, iterations=5000, eta=1e-1, reg=1e-4)"
   ]
  },
  {
   "cell_type": "code",
   "execution_count": null,
   "id": "da68abfa",
   "metadata": {},
   "outputs": [],
   "source": []
  }
 ],
 "metadata": {
  "kernelspec": {
   "display_name": "Python 3 (ipykernel)",
   "language": "python",
   "name": "python3"
  },
  "language_info": {
   "codemirror_mode": {
    "name": "ipython",
    "version": 3
   },
   "file_extension": ".py",
   "mimetype": "text/x-python",
   "name": "python",
   "nbconvert_exporter": "python",
   "pygments_lexer": "ipython3",
   "version": "3.9.7"
  }
 },
 "nbformat": 4,
 "nbformat_minor": 5
}
