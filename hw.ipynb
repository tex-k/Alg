{
 "cells": [
  {
   "cell_type": "code",
   "execution_count": 1,
   "id": "f68e0c65",
   "metadata": {},
   "outputs": [],
   "source": [
    "import numpy as np"
   ]
  },
  {
   "cell_type": "code",
   "execution_count": 2,
   "id": "cce89007",
   "metadata": {},
   "outputs": [],
   "source": [
    "def standard_scale(x):\n",
    "    res = (x - x.mean()) / x.std()\n",
    "    return res"
   ]
  },
  {
   "cell_type": "code",
   "execution_count": 3,
   "id": "abcb03e6",
   "metadata": {},
   "outputs": [],
   "source": [
    "def sigmoid(x):\n",
    "    return 1 / (1 + np.exp(-x))"
   ]
  },
  {
   "cell_type": "code",
   "execution_count": 4,
   "id": "412639ec",
   "metadata": {},
   "outputs": [],
   "source": [
    "def calc_logloss(y, y_pred):\n",
    "    err = - np.mean(y * np.log(y_pred) + (1.0 - y) * np.log(1.0 - y_pred))\n",
    "    return err"
   ]
  },
  {
   "cell_type": "code",
   "execution_count": 5,
   "id": "b6315ce3",
   "metadata": {},
   "outputs": [],
   "source": [
    "def eval_model(X, y, iterations, eta=1e-4):\n",
    "    np.random.seed(42)\n",
    "    W = np.random.randn(X.shape[1])\n",
    "    n = X.shape[0]\n",
    "    \n",
    "    for i in range(iterations):\n",
    "        z = np.dot(X, W)\n",
    "        y_pred = sigmoid(z)\n",
    "        err = calc_logloss(y, y_pred)\n",
    "        \n",
    "        dQ = 1/n * X.T @ (y_pred - y)\n",
    "        W -= eta * dQ\n",
    "        if i % (iterations / 10) == 0:\n",
    "            print(i, W, err)\n",
    "    return W"
   ]
  },
  {
   "cell_type": "code",
   "execution_count": 6,
   "id": "cafa3551",
   "metadata": {},
   "outputs": [],
   "source": [
    "X = np.array([ [   1,    1,  500,    1],\n",
    "               [   1,    1,  700,    1],\n",
    "               [   1,    2,  750,    2],\n",
    "               [   1,    5,  600,    1],\n",
    "               [   1,    3, 1450,    2],\n",
    "               [   1,    0,  800,    1],\n",
    "               [   1,    5, 1500,    3],\n",
    "               [   1,   10, 2000,    3],\n",
    "               [   1,    1,  450,    1],\n",
    "               [   1,    2, 1000,    2]], dtype=np.float64)\n",
    "\n",
    "y = np.array([0, 0, 1, 0, 1, 0, 1, 0, 1, 1], dtype=np.float64)\n",
    "\n",
    "X_st = X.copy()\n",
    "X_st[:, 2] = standard_scale(X[:, 2])"
   ]
  },
  {
   "cell_type": "markdown",
   "id": "708a1588",
   "metadata": {},
   "source": [
    "### 2."
   ]
  },
  {
   "cell_type": "code",
   "execution_count": 7,
   "id": "5e3bb5fa",
   "metadata": {},
   "outputs": [
    {
     "name": "stdout",
     "output_type": "stream",
     "text": [
      "0 [ 0.42083678 -0.4284395   0.64221245  1.4098006 ] 1.1785958344356262\n",
      "16900 [-20.22207503  -2.20657747  -5.22953465  16.8147349 ] 0.16401971762047304\n",
      "33800 [-28.24658697  -2.93091718  -7.52324348  23.33083325] 0.13009531404211877\n",
      "50700 [-33.79522334  -3.43162143  -9.09045111  27.81795433] 0.11411595587826444\n",
      "67600 [-38.14758192  -3.81944087 -10.3179842   31.32011852] 0.10435869615697824\n",
      "84500 [-41.80454921  -4.1393161  -11.35232963  34.24671693] 0.09750809276407421\n",
      "101400 [-45.01045734  -4.41356028 -12.26360183  36.79759734] 0.0922681477514227\n",
      "118300 [-47.90178658  -4.65479998 -13.09043956  39.0845214 ] 0.08802484449888293\n",
      "135200 [-50.56204206  -4.87088038 -13.85619866  41.17604408] 0.08444774583136505\n",
      "152100 [-53.04571421  -5.06704373 -14.57591727  43.11712072] 0.08134224436834844\n"
     ]
    }
   ],
   "source": [
    "W = eval_model(X_st, y, iterations=169000, eta=2e-1)"
   ]
  },
  {
   "cell_type": "markdown",
   "id": "287590da",
   "metadata": {},
   "source": [
    "### 3."
   ]
  },
  {
   "cell_type": "code",
   "execution_count": 8,
   "id": "411b146f",
   "metadata": {},
   "outputs": [],
   "source": [
    "def calc_pred_proba(W, X):\n",
    "    return 1 - sigmoid(-X @ W)"
   ]
  },
  {
   "cell_type": "code",
   "execution_count": 9,
   "id": "a8f93b80",
   "metadata": {},
   "outputs": [
    {
     "data": {
      "text/plain": [
       "array([3.20805702e-01, 8.71817909e-04, 1.00000000e+00, 1.55795377e-11,\n",
       "       9.78078850e-01, 7.07525883e-03, 1.00000000e+00, 4.96344517e-03,\n",
       "       6.94962879e-01, 1.00000000e+00])"
      ]
     },
     "execution_count": 9,
     "metadata": {},
     "output_type": "execute_result"
    }
   ],
   "source": [
    "calc_pred_proba(W, X_st)"
   ]
  },
  {
   "cell_type": "markdown",
   "id": "6013e455",
   "metadata": {},
   "source": [
    "### 4."
   ]
  },
  {
   "cell_type": "code",
   "execution_count": 10,
   "id": "5047b7b0",
   "metadata": {},
   "outputs": [],
   "source": [
    "def calc_pred(W, X):\n",
    "    sgm = calc_pred_proba(W, X)\n",
    "    sgm[sgm >= 0.5] = 1\n",
    "    sgm[sgm < 0.5] = 0\n",
    "    return sgm.astype(np.int32)"
   ]
  },
  {
   "cell_type": "code",
   "execution_count": 11,
   "id": "97dff82e",
   "metadata": {},
   "outputs": [
    {
     "data": {
      "text/plain": [
       "array([0, 0, 1, 0, 1, 0, 1, 0, 1, 1])"
      ]
     },
     "execution_count": 11,
     "metadata": {},
     "output_type": "execute_result"
    }
   ],
   "source": [
    "calc_pred(W, X_st)"
   ]
  },
  {
   "cell_type": "markdown",
   "id": "44c089f1",
   "metadata": {},
   "source": [
    "### 5."
   ]
  },
  {
   "cell_type": "code",
   "execution_count": 12,
   "id": "6b7036b8",
   "metadata": {},
   "outputs": [],
   "source": [
    "def accuracy(y, y_pred):\n",
    "    return np.sum(y == y_pred) / y.shape[0]"
   ]
  },
  {
   "cell_type": "code",
   "execution_count": 13,
   "id": "df2f1b67",
   "metadata": {},
   "outputs": [],
   "source": [
    "def precision(y, y_pred):\n",
    "    return np.sum(y_pred[y_pred == 1] == y[y_pred == 1]) / np.sum(y_pred == 1)"
   ]
  },
  {
   "cell_type": "code",
   "execution_count": 14,
   "id": "9874f1e9",
   "metadata": {},
   "outputs": [],
   "source": [
    "def recall(y, y_pred):\n",
    "    return np.sum(y_pred[y_pred == 1] == y[y_pred == 1]) / np.sum(y == 1)"
   ]
  },
  {
   "cell_type": "code",
   "execution_count": 15,
   "id": "478c2072",
   "metadata": {},
   "outputs": [],
   "source": [
    "def f1(y, y_pred):\n",
    "    prec = precision(y, y_pred)\n",
    "    rec = recall(y, y_pred)\n",
    "    return 2 * prec * rec / (prec + rec)"
   ]
  },
  {
   "cell_type": "code",
   "execution_count": 16,
   "id": "954a315a",
   "metadata": {},
   "outputs": [
    {
     "data": {
      "text/plain": [
       "1.0"
      ]
     },
     "execution_count": 16,
     "metadata": {},
     "output_type": "execute_result"
    }
   ],
   "source": [
    "accuracy(y, calc_pred(W, X_st))"
   ]
  },
  {
   "cell_type": "code",
   "execution_count": 17,
   "id": "f964462e",
   "metadata": {},
   "outputs": [
    {
     "data": {
      "text/plain": [
       "1.0"
      ]
     },
     "execution_count": 17,
     "metadata": {},
     "output_type": "execute_result"
    }
   ],
   "source": [
    "precision(y, calc_pred(W, X_st))"
   ]
  },
  {
   "cell_type": "code",
   "execution_count": 18,
   "id": "89d1cfbc",
   "metadata": {},
   "outputs": [
    {
     "data": {
      "text/plain": [
       "1.0"
      ]
     },
     "execution_count": 18,
     "metadata": {},
     "output_type": "execute_result"
    }
   ],
   "source": [
    "recall(y, calc_pred(W, X_st))"
   ]
  },
  {
   "cell_type": "code",
   "execution_count": 19,
   "id": "3ba112a1",
   "metadata": {},
   "outputs": [
    {
     "data": {
      "text/plain": [
       "1.0"
      ]
     },
     "execution_count": 19,
     "metadata": {},
     "output_type": "execute_result"
    }
   ],
   "source": [
    "f1(y, calc_pred(W, X_st))"
   ]
  },
  {
   "cell_type": "code",
   "execution_count": null,
   "id": "cb14b0ec",
   "metadata": {},
   "outputs": [],
   "source": []
  }
 ],
 "metadata": {
  "kernelspec": {
   "display_name": "Python 3 (ipykernel)",
   "language": "python",
   "name": "python3"
  },
  "language_info": {
   "codemirror_mode": {
    "name": "ipython",
    "version": 3
   },
   "file_extension": ".py",
   "mimetype": "text/x-python",
   "name": "python",
   "nbconvert_exporter": "python",
   "pygments_lexer": "ipython3",
   "version": "3.9.7"
  }
 },
 "nbformat": 4,
 "nbformat_minor": 5
}
